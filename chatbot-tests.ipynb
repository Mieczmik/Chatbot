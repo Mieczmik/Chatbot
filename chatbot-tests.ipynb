{
 "cells": [
  {
   "cell_type": "code",
   "execution_count": 79,
   "metadata": {},
   "outputs": [],
   "source": [
    "import numpy as np\n",
    "from random import randint"
   ]
  },
  {
   "cell_type": "code",
   "execution_count": 35,
   "metadata": {},
   "outputs": [],
   "source": [
    "possible_responses = [\n",
    "    \"Hi, how are you?\",\n",
    "    \"You are amazing\",\n",
    "    \"I'm sure you will be fine, you are so intelligent!\",\n",
    "    \"I love you\",\n",
    "    \"Can we get married?\"\n",
    "]"
   ]
  },
  {
   "cell_type": "code",
   "execution_count": 9,
   "metadata": {},
   "outputs": [],
   "source": [
    "how_many = 4\n",
    "top_k_robots = 2\n",
    "how_many_responses = len(possible_responses)"
   ]
  },
  {
   "cell_type": "code",
   "execution_count": 19,
   "metadata": {},
   "outputs": [],
   "source": [
    "def generate_new() -> np.ndarray:\n",
    "    robots = np.random.randint(0, how_many_responses, size=(how_many, how_many_responses))\n",
    "    return robots"
   ]
  },
  {
   "cell_type": "code",
   "execution_count": 23,
   "metadata": {},
   "outputs": [
    {
     "data": {
      "text/plain": [
       "array([[3, 0, 3, 1, 0],\n",
       "       [4, 2, 3, 2, 2],\n",
       "       [0, 2, 4, 2, 0],\n",
       "       [4, 1, 2, 0, 1]])"
      ]
     },
     "execution_count": 23,
     "metadata": {},
     "output_type": "execute_result"
    }
   ],
   "source": [
    "robots = generate_new()\n",
    "robots"
   ]
  },
  {
   "cell_type": "code",
   "execution_count": 21,
   "metadata": {},
   "outputs": [],
   "source": [
    "def test(robots):\n",
    "    scores = []\n",
    "    for i in range(how_many):\n",
    "        robot = robots[i]\n",
    "        print(\"Next converstation\")\n",
    "        for index in robot:\n",
    "            my_text = input(\"You say: \")\n",
    "            if my_text == \"x\":\n",
    "                break\n",
    "            print(possible_responses[index])\n",
    "        rating = int(input(\"Rate: \"))\n",
    "        scores.append([robot, rating])\n",
    "\n",
    "    return scores"
   ]
  },
  {
   "cell_type": "code",
   "execution_count": 60,
   "metadata": {},
   "outputs": [
    {
     "data": {
      "text/plain": [
       "array([['I love you', 'Hi, how are you?', 'I love you',\n",
       "        'You are amazing', 'Hi, how are you?'],\n",
       "       ['Can we get married?',\n",
       "        \"I'm sure you will be fine, you are so intelligent!\",\n",
       "        'I love you',\n",
       "        \"I'm sure you will be fine, you are so intelligent!\",\n",
       "        \"I'm sure you will be fine, you are so intelligent!\"],\n",
       "       ['Hi, how are you?',\n",
       "        \"I'm sure you will be fine, you are so intelligent!\",\n",
       "        'Can we get married?',\n",
       "        \"I'm sure you will be fine, you are so intelligent!\",\n",
       "        'Hi, how are you?'],\n",
       "       ['Can we get married?', 'You are amazing',\n",
       "        \"I'm sure you will be fine, you are so intelligent!\",\n",
       "        'Hi, how are you?', 'You are amazing']], dtype='<U50')"
      ]
     },
     "execution_count": 60,
     "metadata": {},
     "output_type": "execute_result"
    }
   ],
   "source": [
    "lst_j = []\n",
    "for j in range(robots.shape[0]):\n",
    "\n",
    "    lst_i = np.array([])\n",
    "    for i in robots[j]:\n",
    "        lst_i  =np.append(lst_i, possible_responses[i])\n",
    "    \n",
    "    lst_j.append(lst_i)\n",
    "lst_j = np.array(lst_j)\n",
    "lst_j"
   ]
  },
  {
   "cell_type": "code",
   "execution_count": 64,
   "metadata": {},
   "outputs": [
    {
     "data": {
      "text/plain": [
       "array([3, 0, 3, 1, 0])"
      ]
     },
     "execution_count": 64,
     "metadata": {},
     "output_type": "execute_result"
    }
   ],
   "source": [
    "robots[0]"
   ]
  },
  {
   "cell_type": "code",
   "execution_count": 65,
   "metadata": {},
   "outputs": [
    {
     "data": {
      "text/plain": [
       "[[array([3, 0, 3, 1, 0]), 3],\n",
       " [array([4, 2, 3, 2, 2]), 5],\n",
       " [array([0, 2, 4, 2, 0]), 3],\n",
       " [array([4, 1, 2, 0, 1]), 2]]"
      ]
     },
     "execution_count": 65,
     "metadata": {},
     "output_type": "execute_result"
    }
   ],
   "source": [
    "ratings = [3, 5, 3, 2]\n",
    "scores = []\n",
    "for i in range(how_many):\n",
    "    scores.append([robots[i], ratings[i]])\n",
    "scores"
   ]
  },
  {
   "cell_type": "code",
   "execution_count": 66,
   "metadata": {},
   "outputs": [],
   "source": [
    "scores = sorted(scores, key=lambda pair:pair[1], reverse=True)"
   ]
  },
  {
   "cell_type": "code",
   "execution_count": 73,
   "metadata": {},
   "outputs": [
    {
     "data": {
      "text/plain": [
       "[[array([4, 2, 3, 2, 2]), 5], [array([3, 0, 3, 1, 0]), 3]]"
      ]
     },
     "execution_count": 73,
     "metadata": {},
     "output_type": "execute_result"
    }
   ],
   "source": [
    "scores\n",
    "best_robots = scores[0:top_k_robots]\n",
    "best_robots"
   ]
  },
  {
   "cell_type": "code",
   "execution_count": 71,
   "metadata": {},
   "outputs": [
    {
     "data": {
      "text/plain": [
       "array([[0., 0., 0., 0., 0.],\n",
       "       [0., 0., 0., 0., 0.],\n",
       "       [0., 0., 0., 0., 0.],\n",
       "       [0., 0., 0., 0., 0.]])"
      ]
     },
     "execution_count": 71,
     "metadata": {},
     "output_type": "execute_result"
    }
   ],
   "source": [
    "robots = np.zeros((how_many, how_many_responses))\n",
    "robots"
   ]
  },
  {
   "cell_type": "code",
   "execution_count": 74,
   "metadata": {},
   "outputs": [],
   "source": [
    "for i in range(top_k_robots):\n",
    "        robots[i] = best_robots[i][0]"
   ]
  },
  {
   "cell_type": "code",
   "execution_count": 75,
   "metadata": {},
   "outputs": [
    {
     "data": {
      "text/plain": [
       "array([[4., 2., 3., 2., 2.],\n",
       "       [3., 0., 3., 1., 0.],\n",
       "       [0., 0., 0., 0., 0.],\n",
       "       [0., 0., 0., 0., 0.]])"
      ]
     },
     "execution_count": 75,
     "metadata": {},
     "output_type": "execute_result"
    }
   ],
   "source": [
    "robots"
   ]
  },
  {
   "cell_type": "code",
   "execution_count": 76,
   "metadata": {},
   "outputs": [
    {
     "data": {
      "text/plain": [
       "array([4., 2., 3., 2., 2.])"
      ]
     },
     "execution_count": 76,
     "metadata": {},
     "output_type": "execute_result"
    }
   ],
   "source": [
    "robot = robots[0]\n",
    "robot"
   ]
  },
  {
   "cell_type": "code",
   "execution_count": 77,
   "metadata": {},
   "outputs": [],
   "source": [
    "def mutate(robot):\n",
    "    idx = randint(0, how_many_responses - 1)\n",
    "    robot[idx] = randint(0, how_many_responses - 1)\n",
    "    return robot"
   ]
  },
  {
   "cell_type": "code",
   "execution_count": 80,
   "metadata": {},
   "outputs": [
    {
     "data": {
      "text/plain": [
       "array([4., 3., 3., 2., 2.])"
      ]
     },
     "execution_count": 80,
     "metadata": {},
     "output_type": "execute_result"
    }
   ],
   "source": [
    "mutate(robot)"
   ]
  },
  {
   "cell_type": "code",
   "execution_count": 81,
   "metadata": {},
   "outputs": [
    {
     "data": {
      "text/plain": [
       "5"
      ]
     },
     "execution_count": 81,
     "metadata": {},
     "output_type": "execute_result"
    }
   ],
   "source": [
    "how_many_responses"
   ]
  },
  {
   "cell_type": "code",
   "execution_count": null,
   "metadata": {},
   "outputs": [],
   "source": []
  }
 ],
 "metadata": {
  "kernelspec": {
   "display_name": "Python 3",
   "language": "python",
   "name": "python3"
  },
  "language_info": {
   "codemirror_mode": {
    "name": "ipython",
    "version": 3
   },
   "file_extension": ".py",
   "mimetype": "text/x-python",
   "name": "python",
   "nbconvert_exporter": "python",
   "pygments_lexer": "ipython3",
   "version": "3.8.10"
  },
  "orig_nbformat": 4
 },
 "nbformat": 4,
 "nbformat_minor": 2
}
